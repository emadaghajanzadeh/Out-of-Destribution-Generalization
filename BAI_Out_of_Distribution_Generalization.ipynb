{
  "nbformat": 4,
  "nbformat_minor": 0,
  "metadata": {
    "colab": {
      "provenance": [],
      "collapsed_sections": [
        "ftWnK0pVbHUK",
        "-x_FVgQXaZ2J",
        "-sTRr9S4adbS",
        "bmLFvBrFajcf",
        "N6Sxdgl-a95Q",
        "8pZa0HvlRjKR",
        "_oVs0I6DaLxK",
        "OGkdFeR2aQuA",
        "PrvmxHFJaTmg",
        "9iHB1nrgwaIs",
        "uCMN_v1ag8QR"
      ],
      "authorship_tag": "ABX9TyNC3xhdSVo1ir749QEsWy+3",
      "include_colab_link": true
    },
    "kernelspec": {
      "name": "python3",
      "display_name": "Python 3"
    },
    "language_info": {
      "name": "python"
    },
    "widgets": {
      "application/vnd.jupyter.widget-state+json": {
        "5a06c8a3bd3e4596b9d9250b4c69ca2e": {
          "model_module": "@jupyter-widgets/controls",
          "model_name": "HBoxModel",
          "model_module_version": "1.5.0",
          "state": {
            "_dom_classes": [],
            "_model_module": "@jupyter-widgets/controls",
            "_model_module_version": "1.5.0",
            "_model_name": "HBoxModel",
            "_view_count": null,
            "_view_module": "@jupyter-widgets/controls",
            "_view_module_version": "1.5.0",
            "_view_name": "HBoxView",
            "box_style": "",
            "children": [
              "IPY_MODEL_5b8ce6e2ef164ce9906e17f20038eb8f",
              "IPY_MODEL_d039bd533da94d6a85fa7083cd0bc6d9",
              "IPY_MODEL_21b9d166db5f46e6a06cf9ba64b24dc8"
            ],
            "layout": "IPY_MODEL_bba473da82374d308b205d150b9285b3"
          }
        },
        "5b8ce6e2ef164ce9906e17f20038eb8f": {
          "model_module": "@jupyter-widgets/controls",
          "model_name": "HTMLModel",
          "model_module_version": "1.5.0",
          "state": {
            "_dom_classes": [],
            "_model_module": "@jupyter-widgets/controls",
            "_model_module_version": "1.5.0",
            "_model_name": "HTMLModel",
            "_view_count": null,
            "_view_module": "@jupyter-widgets/controls",
            "_view_module_version": "1.5.0",
            "_view_name": "HTMLView",
            "description": "",
            "description_tooltip": null,
            "layout": "IPY_MODEL_69cecff665294ef19ce0fdc5056c38d7",
            "placeholder": "​",
            "style": "IPY_MODEL_bb88264462ac448fa982bd7d3df608ae",
            "value": "100%"
          }
        },
        "d039bd533da94d6a85fa7083cd0bc6d9": {
          "model_module": "@jupyter-widgets/controls",
          "model_name": "FloatProgressModel",
          "model_module_version": "1.5.0",
          "state": {
            "_dom_classes": [],
            "_model_module": "@jupyter-widgets/controls",
            "_model_module_version": "1.5.0",
            "_model_name": "FloatProgressModel",
            "_view_count": null,
            "_view_module": "@jupyter-widgets/controls",
            "_view_module_version": "1.5.0",
            "_view_name": "ProgressView",
            "bar_style": "danger",
            "description": "",
            "description_tooltip": null,
            "layout": "IPY_MODEL_7c6bdef46a794facad66c4a340dbe9ce",
            "max": 7413123845,
            "min": 0,
            "orientation": "horizontal",
            "style": "IPY_MODEL_09379c79387f43cdb8d4a18928314b66",
            "value": 7407886336
          }
        },
        "21b9d166db5f46e6a06cf9ba64b24dc8": {
          "model_module": "@jupyter-widgets/controls",
          "model_name": "HTMLModel",
          "model_module_version": "1.5.0",
          "state": {
            "_dom_classes": [],
            "_model_module": "@jupyter-widgets/controls",
            "_model_module_version": "1.5.0",
            "_model_name": "HTMLModel",
            "_view_count": null,
            "_view_module": "@jupyter-widgets/controls",
            "_view_module_version": "1.5.0",
            "_view_name": "HTMLView",
            "description": "",
            "description_tooltip": null,
            "layout": "IPY_MODEL_1171d23076aa4a7495a219e73dddce97",
            "placeholder": "​",
            "style": "IPY_MODEL_e794a7b256764d71a28a5807c6cbf371",
            "value": " 7407886336/7413123845 [17:21&lt;00:00, 6448727.01Byte/s]"
          }
        },
        "bba473da82374d308b205d150b9285b3": {
          "model_module": "@jupyter-widgets/base",
          "model_name": "LayoutModel",
          "model_module_version": "1.2.0",
          "state": {
            "_model_module": "@jupyter-widgets/base",
            "_model_module_version": "1.2.0",
            "_model_name": "LayoutModel",
            "_view_count": null,
            "_view_module": "@jupyter-widgets/base",
            "_view_module_version": "1.2.0",
            "_view_name": "LayoutView",
            "align_content": null,
            "align_items": null,
            "align_self": null,
            "border": null,
            "bottom": null,
            "display": null,
            "flex": null,
            "flex_flow": null,
            "grid_area": null,
            "grid_auto_columns": null,
            "grid_auto_flow": null,
            "grid_auto_rows": null,
            "grid_column": null,
            "grid_gap": null,
            "grid_row": null,
            "grid_template_areas": null,
            "grid_template_columns": null,
            "grid_template_rows": null,
            "height": null,
            "justify_content": null,
            "justify_items": null,
            "left": null,
            "margin": null,
            "max_height": null,
            "max_width": null,
            "min_height": null,
            "min_width": null,
            "object_fit": null,
            "object_position": null,
            "order": null,
            "overflow": null,
            "overflow_x": null,
            "overflow_y": null,
            "padding": null,
            "right": null,
            "top": null,
            "visibility": null,
            "width": null
          }
        },
        "69cecff665294ef19ce0fdc5056c38d7": {
          "model_module": "@jupyter-widgets/base",
          "model_name": "LayoutModel",
          "model_module_version": "1.2.0",
          "state": {
            "_model_module": "@jupyter-widgets/base",
            "_model_module_version": "1.2.0",
            "_model_name": "LayoutModel",
            "_view_count": null,
            "_view_module": "@jupyter-widgets/base",
            "_view_module_version": "1.2.0",
            "_view_name": "LayoutView",
            "align_content": null,
            "align_items": null,
            "align_self": null,
            "border": null,
            "bottom": null,
            "display": null,
            "flex": null,
            "flex_flow": null,
            "grid_area": null,
            "grid_auto_columns": null,
            "grid_auto_flow": null,
            "grid_auto_rows": null,
            "grid_column": null,
            "grid_gap": null,
            "grid_row": null,
            "grid_template_areas": null,
            "grid_template_columns": null,
            "grid_template_rows": null,
            "height": null,
            "justify_content": null,
            "justify_items": null,
            "left": null,
            "margin": null,
            "max_height": null,
            "max_width": null,
            "min_height": null,
            "min_width": null,
            "object_fit": null,
            "object_position": null,
            "order": null,
            "overflow": null,
            "overflow_x": null,
            "overflow_y": null,
            "padding": null,
            "right": null,
            "top": null,
            "visibility": null,
            "width": null
          }
        },
        "bb88264462ac448fa982bd7d3df608ae": {
          "model_module": "@jupyter-widgets/controls",
          "model_name": "DescriptionStyleModel",
          "model_module_version": "1.5.0",
          "state": {
            "_model_module": "@jupyter-widgets/controls",
            "_model_module_version": "1.5.0",
            "_model_name": "DescriptionStyleModel",
            "_view_count": null,
            "_view_module": "@jupyter-widgets/base",
            "_view_module_version": "1.2.0",
            "_view_name": "StyleView",
            "description_width": ""
          }
        },
        "7c6bdef46a794facad66c4a340dbe9ce": {
          "model_module": "@jupyter-widgets/base",
          "model_name": "LayoutModel",
          "model_module_version": "1.2.0",
          "state": {
            "_model_module": "@jupyter-widgets/base",
            "_model_module_version": "1.2.0",
            "_model_name": "LayoutModel",
            "_view_count": null,
            "_view_module": "@jupyter-widgets/base",
            "_view_module_version": "1.2.0",
            "_view_name": "LayoutView",
            "align_content": null,
            "align_items": null,
            "align_self": null,
            "border": null,
            "bottom": null,
            "display": null,
            "flex": null,
            "flex_flow": null,
            "grid_area": null,
            "grid_auto_columns": null,
            "grid_auto_flow": null,
            "grid_auto_rows": null,
            "grid_column": null,
            "grid_gap": null,
            "grid_row": null,
            "grid_template_areas": null,
            "grid_template_columns": null,
            "grid_template_rows": null,
            "height": null,
            "justify_content": null,
            "justify_items": null,
            "left": null,
            "margin": null,
            "max_height": null,
            "max_width": null,
            "min_height": null,
            "min_width": null,
            "object_fit": null,
            "object_position": null,
            "order": null,
            "overflow": null,
            "overflow_x": null,
            "overflow_y": null,
            "padding": null,
            "right": null,
            "top": null,
            "visibility": null,
            "width": null
          }
        },
        "09379c79387f43cdb8d4a18928314b66": {
          "model_module": "@jupyter-widgets/controls",
          "model_name": "ProgressStyleModel",
          "model_module_version": "1.5.0",
          "state": {
            "_model_module": "@jupyter-widgets/controls",
            "_model_module_version": "1.5.0",
            "_model_name": "ProgressStyleModel",
            "_view_count": null,
            "_view_module": "@jupyter-widgets/base",
            "_view_module_version": "1.2.0",
            "_view_name": "StyleView",
            "bar_color": null,
            "description_width": ""
          }
        },
        "1171d23076aa4a7495a219e73dddce97": {
          "model_module": "@jupyter-widgets/base",
          "model_name": "LayoutModel",
          "model_module_version": "1.2.0",
          "state": {
            "_model_module": "@jupyter-widgets/base",
            "_model_module_version": "1.2.0",
            "_model_name": "LayoutModel",
            "_view_count": null,
            "_view_module": "@jupyter-widgets/base",
            "_view_module_version": "1.2.0",
            "_view_name": "LayoutView",
            "align_content": null,
            "align_items": null,
            "align_self": null,
            "border": null,
            "bottom": null,
            "display": null,
            "flex": null,
            "flex_flow": null,
            "grid_area": null,
            "grid_auto_columns": null,
            "grid_auto_flow": null,
            "grid_auto_rows": null,
            "grid_column": null,
            "grid_gap": null,
            "grid_row": null,
            "grid_template_areas": null,
            "grid_template_columns": null,
            "grid_template_rows": null,
            "height": null,
            "justify_content": null,
            "justify_items": null,
            "left": null,
            "margin": null,
            "max_height": null,
            "max_width": null,
            "min_height": null,
            "min_width": null,
            "object_fit": null,
            "object_position": null,
            "order": null,
            "overflow": null,
            "overflow_x": null,
            "overflow_y": null,
            "padding": null,
            "right": null,
            "top": null,
            "visibility": null,
            "width": null
          }
        },
        "e794a7b256764d71a28a5807c6cbf371": {
          "model_module": "@jupyter-widgets/controls",
          "model_name": "DescriptionStyleModel",
          "model_module_version": "1.5.0",
          "state": {
            "_model_module": "@jupyter-widgets/controls",
            "_model_module_version": "1.5.0",
            "_model_name": "DescriptionStyleModel",
            "_view_count": null,
            "_view_module": "@jupyter-widgets/base",
            "_view_module_version": "1.2.0",
            "_view_name": "StyleView",
            "description_width": ""
          }
        }
      }
    },
    "accelerator": "GPU",
    "gpuClass": "standard"
  },
  "cells": [
    {
      "cell_type": "markdown",
      "metadata": {
        "id": "view-in-github",
        "colab_type": "text"
      },
      "source": [
        "<a href=\"https://colab.research.google.com/github/emadaghajanzadeh/Out-of-Destribution-Generalization/blob/main/BAI_Out_of_Distribution_Generalization.ipynb\" target=\"_parent\"><img src=\"https://colab.research.google.com/assets/colab-badge.svg\" alt=\"Open In Colab\"/></a>"
      ]
    },
    {
      "cell_type": "markdown",
      "source": [
        "# Links"
      ],
      "metadata": {
        "id": "ftWnK0pVbHUK"
      }
    },
    {
      "cell_type": "markdown",
      "source": [
        "A Recipe for Training Neural Networks: http://karpathy.github.io/2019/04/25/recipe/\n",
        "\n",
        "WILDS Dataset Homepage: https://worksheets.codalab.org/worksheets/0xb44731cc8e8a4265a20146c3887b6b90\n",
        "\n",
        "WILDS Dataset Github page: https://github.com/p-lambda/wilds\n",
        "\n",
        "WILDS Dataset Original Paper: https://arxiv.org/pdf/2012.07421.pdf\n",
        "\n",
        "RxRx1 Dataset Homepage: https://www.rxrx.ai/rxrx1#the-data\n",
        "\n",
        "RxRx1 Original Paper: https://aiforsocialgood.github.io/iclr2019/accepted/track1/pdfs/30_aisg_iclr2019.pdf"
      ],
      "metadata": {
        "id": "ItV6AHlqbP4i"
      }
    },
    {
      "cell_type": "markdown",
      "source": [
        "# Initial Config"
      ],
      "metadata": {
        "id": "-x_FVgQXaZ2J"
      }
    },
    {
      "cell_type": "code",
      "execution_count": null,
      "metadata": {
        "colab": {
          "base_uri": "https://localhost:8080/",
          "height": 868
        },
        "id": "7J6RJXBjfI9p",
        "outputId": "5c72a7c3-c57d-4761-bfc3-8ba9486f6141"
      },
      "outputs": [
        {
          "output_type": "stream",
          "name": "stdout",
          "text": [
            "Looking in indexes: https://pypi.org/simple, https://us-python.pkg.dev/colab-wheels/public/simple/\n",
            "Collecting wilds\n",
            "  Downloading wilds-2.0.0-py3-none-any.whl (126 kB)\n",
            "\u001b[K     |████████████████████████████████| 126 kB 7.0 MB/s \n",
            "\u001b[?25hRequirement already satisfied: tqdm>=4.53.0 in /usr/local/lib/python3.7/dist-packages (from wilds) (4.64.1)\n",
            "Collecting pillow>=7.2.0\n",
            "  Downloading Pillow-9.3.0-cp37-cp37m-manylinux_2_17_x86_64.manylinux2014_x86_64.whl (3.2 MB)\n",
            "\u001b[K     |████████████████████████████████| 3.2 MB 16.5 MB/s \n",
            "\u001b[?25hRequirement already satisfied: torch>=1.7.0 in /usr/local/lib/python3.7/dist-packages (from wilds) (1.12.1+cu113)\n",
            "Requirement already satisfied: pandas>=1.1.0 in /usr/local/lib/python3.7/dist-packages (from wilds) (1.3.5)\n",
            "Requirement already satisfied: numpy>=1.19.1 in /usr/local/lib/python3.7/dist-packages (from wilds) (1.21.6)\n",
            "Requirement already satisfied: pytz>=2020.4 in /usr/local/lib/python3.7/dist-packages (from wilds) (2022.6)\n",
            "Requirement already satisfied: scipy>=1.5.4 in /usr/local/lib/python3.7/dist-packages (from wilds) (1.7.3)\n",
            "Requirement already satisfied: torchvision>=0.8.2 in /usr/local/lib/python3.7/dist-packages (from wilds) (0.13.1+cu113)\n",
            "Collecting ogb>=1.2.6\n",
            "  Downloading ogb-1.3.5-py3-none-any.whl (78 kB)\n",
            "\u001b[K     |████████████████████████████████| 78 kB 7.3 MB/s \n",
            "\u001b[?25hCollecting outdated>=0.2.0\n",
            "  Downloading outdated-0.2.2-py2.py3-none-any.whl (7.5 kB)\n",
            "Requirement already satisfied: scikit-learn>=0.20.0 in /usr/local/lib/python3.7/dist-packages (from wilds) (1.0.2)\n",
            "Requirement already satisfied: six>=1.12.0 in /usr/local/lib/python3.7/dist-packages (from ogb>=1.2.6->wilds) (1.15.0)\n",
            "Requirement already satisfied: urllib3>=1.24.0 in /usr/local/lib/python3.7/dist-packages (from ogb>=1.2.6->wilds) (1.24.3)\n",
            "Collecting littleutils\n",
            "  Downloading littleutils-0.2.2.tar.gz (6.6 kB)\n",
            "Requirement already satisfied: setuptools>=44 in /usr/local/lib/python3.7/dist-packages (from outdated>=0.2.0->wilds) (57.4.0)\n",
            "Requirement already satisfied: requests in /usr/local/lib/python3.7/dist-packages (from outdated>=0.2.0->wilds) (2.23.0)\n",
            "Requirement already satisfied: python-dateutil>=2.7.3 in /usr/local/lib/python3.7/dist-packages (from pandas>=1.1.0->wilds) (2.8.2)\n",
            "Requirement already satisfied: threadpoolctl>=2.0.0 in /usr/local/lib/python3.7/dist-packages (from scikit-learn>=0.20.0->wilds) (3.1.0)\n",
            "Requirement already satisfied: joblib>=0.11 in /usr/local/lib/python3.7/dist-packages (from scikit-learn>=0.20.0->wilds) (1.2.0)\n",
            "Requirement already satisfied: typing-extensions in /usr/local/lib/python3.7/dist-packages (from torch>=1.7.0->wilds) (4.1.1)\n",
            "Requirement already satisfied: certifi>=2017.4.17 in /usr/local/lib/python3.7/dist-packages (from requests->outdated>=0.2.0->wilds) (2022.9.24)\n",
            "Requirement already satisfied: chardet<4,>=3.0.2 in /usr/local/lib/python3.7/dist-packages (from requests->outdated>=0.2.0->wilds) (3.0.4)\n",
            "Requirement already satisfied: idna<3,>=2.5 in /usr/local/lib/python3.7/dist-packages (from requests->outdated>=0.2.0->wilds) (2.10)\n",
            "Building wheels for collected packages: littleutils\n",
            "  Building wheel for littleutils (setup.py) ... \u001b[?25l\u001b[?25hdone\n",
            "  Created wheel for littleutils: filename=littleutils-0.2.2-py3-none-any.whl size=7049 sha256=408215687acd34315c450b5aef05d46a01b1f52fdda95ef45c5a1b65975e8e3f\n",
            "  Stored in directory: /root/.cache/pip/wheels/d6/64/cd/32819b511a488e4993f2fab909a95330289c3f4e0f6ef4676d\n",
            "Successfully built littleutils\n",
            "Installing collected packages: littleutils, pillow, outdated, ogb, wilds\n",
            "  Attempting uninstall: pillow\n",
            "    Found existing installation: Pillow 7.1.2\n",
            "    Uninstalling Pillow-7.1.2:\n",
            "      Successfully uninstalled Pillow-7.1.2\n",
            "Successfully installed littleutils-0.2.2 ogb-1.3.5 outdated-0.2.2 pillow-9.3.0 wilds-2.0.0\n"
          ]
        },
        {
          "output_type": "display_data",
          "data": {
            "application/vnd.colab-display-data+json": {
              "pip_warning": {
                "packages": [
                  "PIL"
                ]
              }
            }
          },
          "metadata": {}
        }
      ],
      "source": [
        "!pip install wilds"
      ]
    },
    {
      "cell_type": "code",
      "source": [
        "!python -c \"import wilds; print(wilds.__version__)\"\n",
        "# This should print \"2.0.0\". If it doesn't, update by running:\n",
        "!pip install -U wilds"
      ],
      "metadata": {
        "colab": {
          "base_uri": "https://localhost:8080/"
        },
        "id": "OpOeNUaMUsR_",
        "outputId": "d0cdaa02-b7b3-440b-aad8-d8d43ece9802"
      },
      "execution_count": null,
      "outputs": [
        {
          "output_type": "stream",
          "name": "stdout",
          "text": [
            "2.0.0\n",
            "Looking in indexes: https://pypi.org/simple, https://us-python.pkg.dev/colab-wheels/public/simple/\n",
            "Requirement already satisfied: wilds in /usr/local/lib/python3.7/dist-packages (2.0.0)\n",
            "Requirement already satisfied: scipy>=1.5.4 in /usr/local/lib/python3.7/dist-packages (from wilds) (1.7.3)\n",
            "Requirement already satisfied: numpy>=1.19.1 in /usr/local/lib/python3.7/dist-packages (from wilds) (1.21.6)\n",
            "Requirement already satisfied: pillow>=7.2.0 in /usr/local/lib/python3.7/dist-packages (from wilds) (9.3.0)\n",
            "Requirement already satisfied: pytz>=2020.4 in /usr/local/lib/python3.7/dist-packages (from wilds) (2022.6)\n",
            "Requirement already satisfied: torchvision>=0.8.2 in /usr/local/lib/python3.7/dist-packages (from wilds) (0.13.1+cu113)\n",
            "Requirement already satisfied: pandas>=1.1.0 in /usr/local/lib/python3.7/dist-packages (from wilds) (1.3.5)\n",
            "Requirement already satisfied: outdated>=0.2.0 in /usr/local/lib/python3.7/dist-packages (from wilds) (0.2.2)\n",
            "Requirement already satisfied: scikit-learn>=0.20.0 in /usr/local/lib/python3.7/dist-packages (from wilds) (1.0.2)\n",
            "Requirement already satisfied: ogb>=1.2.6 in /usr/local/lib/python3.7/dist-packages (from wilds) (1.3.5)\n",
            "Requirement already satisfied: torch>=1.7.0 in /usr/local/lib/python3.7/dist-packages (from wilds) (1.12.1+cu113)\n",
            "Requirement already satisfied: tqdm>=4.53.0 in /usr/local/lib/python3.7/dist-packages (from wilds) (4.64.1)\n",
            "Requirement already satisfied: urllib3>=1.24.0 in /usr/local/lib/python3.7/dist-packages (from ogb>=1.2.6->wilds) (1.24.3)\n",
            "Requirement already satisfied: six>=1.12.0 in /usr/local/lib/python3.7/dist-packages (from ogb>=1.2.6->wilds) (1.15.0)\n",
            "Requirement already satisfied: requests in /usr/local/lib/python3.7/dist-packages (from outdated>=0.2.0->wilds) (2.23.0)\n",
            "Requirement already satisfied: littleutils in /usr/local/lib/python3.7/dist-packages (from outdated>=0.2.0->wilds) (0.2.2)\n",
            "Requirement already satisfied: setuptools>=44 in /usr/local/lib/python3.7/dist-packages (from outdated>=0.2.0->wilds) (57.4.0)\n",
            "Requirement already satisfied: python-dateutil>=2.7.3 in /usr/local/lib/python3.7/dist-packages (from pandas>=1.1.0->wilds) (2.8.2)\n",
            "Requirement already satisfied: threadpoolctl>=2.0.0 in /usr/local/lib/python3.7/dist-packages (from scikit-learn>=0.20.0->wilds) (3.1.0)\n",
            "Requirement already satisfied: joblib>=0.11 in /usr/local/lib/python3.7/dist-packages (from scikit-learn>=0.20.0->wilds) (1.2.0)\n",
            "Requirement already satisfied: typing-extensions in /usr/local/lib/python3.7/dist-packages (from torch>=1.7.0->wilds) (4.1.1)\n",
            "Requirement already satisfied: idna<3,>=2.5 in /usr/local/lib/python3.7/dist-packages (from requests->outdated>=0.2.0->wilds) (2.10)\n",
            "Requirement already satisfied: certifi>=2017.4.17 in /usr/local/lib/python3.7/dist-packages (from requests->outdated>=0.2.0->wilds) (2022.9.24)\n",
            "Requirement already satisfied: chardet<4,>=3.0.2 in /usr/local/lib/python3.7/dist-packages (from requests->outdated>=0.2.0->wilds) (3.0.4)\n"
          ]
        }
      ]
    },
    {
      "cell_type": "markdown",
      "source": [
        "[link text](https://)# Import Dataset"
      ],
      "metadata": {
        "id": "-sTRr9S4adbS"
      }
    },
    {
      "cell_type": "code",
      "source": [
        "import matplotlib.pyplot as plt\n",
        "import numpy as np\n",
        "from wilds import get_dataset\n",
        "from wilds.common.data_loaders import get_train_loader\n",
        "\n",
        "# Load the full dataset, and download it if necessary (About 17 Min)\n",
        "dataset = get_dataset(dataset=\"rxrx1\", download=True)"
      ],
      "metadata": {
        "colab": {
          "base_uri": "https://localhost:8080/",
          "height": 171,
          "referenced_widgets": [
            "5a06c8a3bd3e4596b9d9250b4c69ca2e",
            "5b8ce6e2ef164ce9906e17f20038eb8f",
            "d039bd533da94d6a85fa7083cd0bc6d9",
            "21b9d166db5f46e6a06cf9ba64b24dc8",
            "bba473da82374d308b205d150b9285b3",
            "69cecff665294ef19ce0fdc5056c38d7",
            "bb88264462ac448fa982bd7d3df608ae",
            "7c6bdef46a794facad66c4a340dbe9ce",
            "09379c79387f43cdb8d4a18928314b66",
            "1171d23076aa4a7495a219e73dddce97",
            "e794a7b256764d71a28a5807c6cbf371"
          ]
        },
        "id": "_K_YqmYMfTdg",
        "outputId": "df0f3588-3caf-45d1-e6cc-30e2c15abe06"
      },
      "execution_count": null,
      "outputs": [
        {
          "output_type": "stream",
          "name": "stdout",
          "text": [
            "Downloading dataset to data/rxrx1_v1.0...\n",
            "You can also download the dataset manually at https://wilds.stanford.edu/downloads.\n",
            "Downloading https://worksheets.codalab.org/rest/bundles/0x6b7a05a3056a434498f0bb1252eb8440/contents/blob/ to data/rxrx1_v1.0/archive.tar.gz\n"
          ]
        },
        {
          "output_type": "display_data",
          "data": {
            "text/plain": [
              "  0%|          | 0/7413123845 [00:00<?, ?Byte/s]"
            ],
            "application/vnd.jupyter.widget-view+json": {
              "version_major": 2,
              "version_minor": 0,
              "model_id": "5a06c8a3bd3e4596b9d9250b4c69ca2e"
            }
          },
          "metadata": {}
        },
        {
          "output_type": "stream",
          "name": "stdout",
          "text": [
            "Extracting data/rxrx1_v1.0/archive.tar.gz to data/rxrx1_v1.0\n",
            "\n",
            "It took 18.82 minutes to download and uncompress the dataset.\n",
            "\n"
          ]
        }
      ]
    },
    {
      "cell_type": "markdown",
      "source": [
        "# Dataset Inspection"
      ],
      "metadata": {
        "id": "bmLFvBrFajcf"
      }
    },
    {
      "cell_type": "markdown",
      "source": [
        "##Understanding Data Formation"
      ],
      "metadata": {
        "id": "N6Sxdgl-a95Q"
      }
    },
    {
      "cell_type": "code",
      "source": [
        "import torchvision.transforms as transforms\n",
        "# Consider changing the resize function parameter in case of computational difficualties (Defaul size is (448, 448))\n",
        "data_size = (128, 128)\n",
        "train_data = dataset.get_subset(\n",
        "    \"train\",\n",
        "    transform=transforms.Compose(\n",
        "        [transforms.Resize(data_size), transforms.ToTensor()]\n",
        "    ),\n",
        ")"
      ],
      "metadata": {
        "id": "_VFvGvLv2rd7"
      },
      "execution_count": null,
      "outputs": []
    },
    {
      "cell_type": "code",
      "source": [
        "batch_size_train = 512\n",
        "train_loader = get_train_loader(\"standard\", train_data, batch_size=batch_size_train)\n",
        "print(type(train_loader))"
      ],
      "metadata": {
        "id": "nQV45sL0bR6n",
        "colab": {
          "base_uri": "https://localhost:8080/"
        },
        "outputId": "0addcbb2-988f-4f60-9500-ce3f329aa3b0"
      },
      "execution_count": null,
      "outputs": [
        {
          "output_type": "stream",
          "name": "stdout",
          "text": [
            "<class 'torch.utils.data.dataloader.DataLoader'>\n"
          ]
        }
      ]
    },
    {
      "cell_type": "code",
      "source": [
        "def infoExtractor(batchSize, data_loader, dataType):\n",
        "  firstBatch = next(iter(data_loader))\n",
        "  print(f\"Information on {dataType} \\\n",
        "          \\nNumber of Batches: {len(data_loader)} \\\n",
        "          \\nSize of Each Batch: {batchSize}    \\\n",
        "          \\nTotal Amount of Data: {len(data_loader)* batchSize} \\n\"\n",
        "        )\n",
        "  print(f\"Each batch has the following shape: {len(firstBatch), firstBatch[0].shape}\")   #Which means (?, Batch size, Number of channels, width, height)\n",
        "  for i in range(len(firstBatch)):\n",
        "    print(f\"The shape of Batch[{i}] is: {firstBatch[i].shape}\")"
      ],
      "metadata": {
        "id": "4jHEZXeMXiHh"
      },
      "execution_count": null,
      "outputs": []
    },
    {
      "cell_type": "code",
      "source": [
        "infoExtractor(batch_size_train, train_loader, \"Training Data\")\n",
        "# Therefore My guess is that (x, y, metadata)"
      ],
      "metadata": {
        "colab": {
          "base_uri": "https://localhost:8080/"
        },
        "id": "LwMJMhuVFQZd",
        "outputId": "00bb73ec-e216-47de-93fe-e3aa4c62f7a9"
      },
      "execution_count": null,
      "outputs": [
        {
          "output_type": "stream",
          "name": "stdout",
          "text": [
            "Information on Training Data           \n",
            "Number of Batches: 80           \n",
            "Size of Each Batch: 512              \n",
            "Total Amount of Data: 40960 \n",
            "\n",
            "Each batch has the following shape: (3, torch.Size([512, 3, 128, 128]))\n",
            "The shape of Batch[0] is: torch.Size([512, 3, 128, 128])\n",
            "The shape of Batch[1] is: torch.Size([512])\n",
            "The shape of Batch[2] is: torch.Size([512, 7])\n"
          ]
        }
      ]
    },
    {
      "cell_type": "code",
      "source": [
        "# Select a random data inside the selected batch\n",
        "firstBatch = next(iter(train_loader))\n",
        "idx = np.random.randint(batch_size_train)\n",
        "img = firstBatch[0][idx]\n",
        "plt.figure(figsize = (6,6))\n",
        "plt.axis(\"off\")\n",
        "plt.imshow(np.transpose(img))"
      ],
      "metadata": {
        "colab": {
          "base_uri": "https://localhost:8080/",
          "height": 374
        },
        "id": "RfOdEz4kbdAx",
        "outputId": "40a51070-17f8-4e24-d59f-303a35326ecb"
      },
      "execution_count": null,
      "outputs": [
        {
          "output_type": "execute_result",
          "data": {
            "text/plain": [
              "<matplotlib.image.AxesImage at 0x7f1473833ad0>"
            ]
          },
          "metadata": {},
          "execution_count": 55
        },
        {
          "output_type": "display_data",
          "data": {
            "text/plain": [
              "<Figure size 432x432 with 1 Axes>"
            ],
            "image/png": "[encoded data removed]"
          },
          "metadata": {
            "needs_background": "light"
          }
        }
      ]
    },
    {
      "cell_type": "markdown",
      "source": [
        "## Checking Numbers of Data and Importing Val, In, OOD data"
      ],
      "metadata": {
        "id": "8pZa0HvlRjKR"
      }
    },
    {
      "cell_type": "markdown",
      "source": [
        "####Validation (OOD):"
      ],
      "metadata": {
        "id": "_oVs0I6DaLxK"
      }
    },
    {
      "cell_type": "code",
      "source": [
        "val_data = dataset.get_subset(\n",
        "    \"val\",\n",
        "    transform=transforms.Compose(\n",
        "        [transforms.Resize(data_size), transforms.ToTensor()]\n",
        "    ),\n",
        ")"
      ],
      "metadata": {
        "id": "wVqAlrk6bx2j"
      },
      "execution_count": null,
      "outputs": []
    },
    {
      "cell_type": "code",
      "source": [
        "batch_size_val = batch_size_train\n",
        "val_loader = get_train_loader(\"standard\", val_data, batch_size=batch_size_val)\n",
        "print(type(val_loader))\n",
        "infoExtractor(batch_size_val, val_loader, \"Validation Data\")"
      ],
      "metadata": {
        "colab": {
          "base_uri": "https://localhost:8080/"
        },
        "id": "ajt_Q0HfY6au",
        "outputId": "63b24855-3777-4752-d5ff-d76598913f9d"
      },
      "execution_count": null,
      "outputs": [
        {
          "output_type": "stream",
          "name": "stdout",
          "text": [
            "<class 'torch.utils.data.dataloader.DataLoader'>\n",
            "Information on Validation Data           \n",
            "Number of Batches: 20           \n",
            "Size of Each Batch: 512              \n",
            "Total Amount of Data: 10240 \n",
            "\n",
            "Each batch has the following shape: (3, torch.Size([512, 3, 128, 128]))\n",
            "The shape of Batch[0] is: torch.Size([512, 3, 128, 128])\n",
            "The shape of Batch[1] is: torch.Size([512])\n",
            "The shape of Batch[2] is: torch.Size([512, 7])\n"
          ]
        }
      ]
    },
    {
      "cell_type": "markdown",
      "source": [
        "####Test (ID):"
      ],
      "metadata": {
        "id": "OGkdFeR2aQuA"
      }
    },
    {
      "cell_type": "code",
      "source": [
        "id_test_data = dataset.get_subset(\n",
        "    \"id_test\",\n",
        "    transform=transforms.Compose(\n",
        "        [transforms.Resize(data_size), transforms.ToTensor()]\n",
        "    ),\n",
        ")"
      ],
      "metadata": {
        "id": "d9J32zAXZ0X7"
      },
      "execution_count": null,
      "outputs": []
    },
    {
      "cell_type": "code",
      "source": [
        "batch_size_id_test = batch_size_train\n",
        "id_test_loader = get_train_loader(\"standard\", id_test_data, batch_size=batch_size_id_test)\n",
        "print(type(id_test_loader))\n",
        "infoExtractor(batch_size_id_test, id_test_loader, \"In-Distribution Test Data\")"
      ],
      "metadata": {
        "colab": {
          "base_uri": "https://localhost:8080/"
        },
        "outputId": "205b7a6a-2d24-4f75-9431-f51e654cd8f8",
        "id": "iycEXXL6Z0X-"
      },
      "execution_count": null,
      "outputs": [
        {
          "output_type": "stream",
          "name": "stdout",
          "text": [
            "<class 'torch.utils.data.dataloader.DataLoader'>\n",
            "Information on In-Distribution Test Data           \n",
            "Number of Batches: 80           \n",
            "Size of Each Batch: 512              \n",
            "Total Amount of Data: 40960 \n",
            "\n",
            "Each batch has the following shape: (3, torch.Size([512, 3, 128, 128]))\n",
            "The shape of Batch[0] is: torch.Size([512, 3, 128, 128])\n",
            "The shape of Batch[1] is: torch.Size([512])\n",
            "The shape of Batch[2] is: torch.Size([512, 7])\n"
          ]
        }
      ]
    },
    {
      "cell_type": "markdown",
      "source": [
        "####Test (OOD):"
      ],
      "metadata": {
        "id": "PrvmxHFJaTmg"
      }
    },
    {
      "cell_type": "code",
      "source": [
        "# Based on the original annotation used, this data named test_data not ood_test_data\n",
        "test_data = dataset.get_subset(\n",
        "    \"test\",\n",
        "    transform=transforms.Compose(\n",
        "        [transforms.Resize(data_size), transforms.ToTensor()]\n",
        "    ),\n",
        ")"
      ],
      "metadata": {
        "id": "1LrIsRK1Q6c0"
      },
      "execution_count": null,
      "outputs": []
    },
    {
      "cell_type": "code",
      "source": [
        "batch_size_test = batch_size_train\n",
        "test_loader = get_train_loader(\"standard\", test_data, batch_size=batch_size_test)\n",
        "print(type(test_loader))\n",
        "infoExtractor(batch_size_test, test_loader, \"Test Data\")"
      ],
      "metadata": {
        "colab": {
          "base_uri": "https://localhost:8080/"
        },
        "id": "9nh8ZwN5ZRhR",
        "outputId": "d66a8314-f5d9-4997-8539-eef1096baf06"
      },
      "execution_count": null,
      "outputs": [
        {
          "output_type": "stream",
          "name": "stdout",
          "text": [
            "<class 'torch.utils.data.dataloader.DataLoader'>\n",
            "Information on Test Data           \n",
            "Number of Batches: 68           \n",
            "Size of Each Batch: 512              \n",
            "Total Amount of Data: 34816 \n",
            "\n",
            "Each batch has the following shape: (3, torch.Size([512, 3, 128, 128]))\n",
            "The shape of Batch[0] is: torch.Size([512, 3, 128, 128])\n",
            "The shape of Batch[1] is: torch.Size([512])\n",
            "The shape of Batch[2] is: torch.Size([512, 7])\n"
          ]
        }
      ]
    },
    {
      "cell_type": "markdown",
      "source": [
        "# Model Defnition"
      ],
      "metadata": {
        "id": "9iHB1nrgwaIs"
      }
    },
    {
      "cell_type": "code",
      "source": [
        "# Simple model\n",
        "# Code from: https://pytorch.org/tutorials/beginner/blitz/cifar10_tutorial.html\n",
        "import torch\n",
        "import torch.nn as nn\n",
        "import torch.nn.functional as F\n",
        "import torch.optim as optim\n",
        "\n",
        "class Net(nn.Module):\n",
        "    def __init__(self):\n",
        "        super().__init__()\n",
        "        self.conv1 = nn.Conv2d(3, 6, 5)\n",
        "        self.pool = nn.MaxPool2d(5, 5)\n",
        "        self.conv2 = nn.Conv2d(6, 16, 5)\n",
        "        self.fc1 = nn.Linear(256, 64)\n",
        "        self.fc2 = nn.Linear(64, 32)\n",
        "        self.fc3 = nn.Linear(32, 1139)\n",
        "\n",
        "    def forward(self, x):\n",
        "        x = self.pool(F.relu(self.conv1(x)))\n",
        "        x = self.pool(F.relu(self.conv2(x)))\n",
        "        x = torch.flatten(x, 1) # flatten all dimensions except batch\n",
        "        x = F.relu(self.fc1(x))\n",
        "        x = F.relu(self.fc2(x))\n",
        "        x = self.fc3(x)\n",
        "        return x"
      ],
      "metadata": {
        "id": "gb8_Y788xDsb"
      },
      "execution_count": null,
      "outputs": []
    },
    {
      "cell_type": "markdown",
      "source": [
        "# Training and Validation"
      ],
      "metadata": {
        "id": "uCMN_v1ag8QR"
      }
    },
    {
      "cell_type": "code",
      "source": [
        "net = Net()\n",
        "criterion = nn.CrossEntropyLoss()\n",
        "optimizer = optim.SGD(net.parameters(), lr=0.001, momentum=0.9)\n",
        "metrics = []  #It is going to be filled as (train_loss, val_loss, id_loss, ood_loss)"
      ],
      "metadata": {
        "id": "HtkCxm_pMRqw"
      },
      "execution_count": null,
      "outputs": []
    },
    {
      "cell_type": "code",
      "source": [
        "# Only for showing the progress bar\n",
        "import tensorflow as tf\n",
        "\n",
        "\n",
        "n_epochs = 2\n",
        "n_batches_used_train = 10\n",
        "# n_batches_used = len(train_loader)\n",
        "\n",
        "n_batches_used_val = 10\n",
        "losses_train = []\n",
        "losses_val = []\n",
        "for epoch in range(n_epochs):\n",
        "    print(f'Epoch {epoch+1}/{n_epochs}')\n",
        "    running_loss = 0\n",
        "    pbar = tf.keras.utils.Progbar(target=n_batches_used_train)\n",
        "    #Training\n",
        "    for i, batch in enumerate(train_loader, 0):\n",
        "        if i == n_batches_used_train:\n",
        "          break\n",
        "        x, y, metadata = batch\n",
        "\n",
        "        optimizer.zero_grad()\n",
        "\n",
        "        # forward + backward + optimize\n",
        "        outputs = net(x)\n",
        "        loss = criterion(outputs, y)\n",
        "\n",
        "        loss.backward()\n",
        "        optimizer.step()\n",
        "\n",
        "        # print statistics\n",
        "        running_loss += loss.item()\n",
        "        pbar.update(i, values=[(\"loss\",loss.item())])\n",
        "    losses_train.append(running_loss/n_batches_used_train)\n",
        "\n",
        "    #Validation\n",
        "    with torch.no_grad():\n",
        "      val_loss = 0\n",
        "      for i, batch in enumerate(val_loader):\n",
        "          if i==n_batches_used_val:\n",
        "            break\n",
        "          x, y, metadata = batch\n",
        "          outputs = net(x)\n",
        "          val_loss += criterion(outputs, y)\n",
        "\n",
        "    losses_val.append(val_loss.item()/n_batches_used_train)\n",
        "\n",
        "    #Because we need to overwrite on the previous line forr training, you should pass \"n_batches_used_train\"  as the first arg.\n",
        "    pbar.update(n_batches_used_train, values=[('val_loss', val_loss.item()/n_batches_used_val)])\n",
        "\n",
        "metrics.append(losses_train[-1])\n",
        "metrics.append(losses_val[-1])\n",
        "print('Finished Training')"
      ],
      "metadata": {
        "colab": {
          "base_uri": "https://localhost:8080/"
        },
        "id": "OiqJzBP2x13L",
        "outputId": "e5c440b7-2a69-4a52-bc01-c08f85778ef6"
      },
      "execution_count": null,
      "outputs": [
        {
          "output_type": "stream",
          "name": "stdout",
          "text": [
            "Epoch 1/2\n",
            "10/10 [==============================] - 64s 6s/step - loss: 7.0464 - val_loss: 7.0418\n",
            "Epoch 2/2\n",
            "10/10 [==============================] - 61s 6s/step - loss: 7.0411 - val_loss: 7.0433\n",
            "Finished Training\n"
          ]
        }
      ]
    },
    {
      "cell_type": "code",
      "source": [
        "import matplotlib.pyplot as plt\n",
        "\n",
        "plt.figure(figsize=(10,8))\n",
        "plt.xlabel(\"Epoch\")\n",
        "plt.title(\"Training and Validation Curve during Training\")\n",
        "plt.plot(losses_train)\n",
        "plt.plot(losses_val)\n",
        "plt.legend([\"Training\", \"Validation\"])"
      ],
      "metadata": {
        "colab": {
          "base_uri": "https://localhost:8080/",
          "height": 530
        },
        "id": "Z3TThbYcM3kh",
        "outputId": "125708aa-d7c0-460d-bd4d-5083477259b5"
      },
      "execution_count": null,
      "outputs": [
        {
          "output_type": "execute_result",
          "data": {
            "text/plain": [
              "<matplotlib.legend.Legend at 0x7f14d49cc7d0>"
            ]
          },
          "metadata": {},
          "execution_count": 71
        },
        {
          "output_type": "display_data",
          "data": {
            "text/plain": [
              "<Figure size 720x576 with 1 Axes>"
            ],
            "image/png": "[encoded data removed]"
          },
          "metadata": {
            "needs_background": "light"
          }
        }
      ]
    },
    {
      "cell_type": "markdown",
      "source": [
        "# ID Test"
      ],
      "metadata": {
        "id": "NopyaUxQAleu"
      }
    },
    {
      "cell_type": "code",
      "source": [
        "n_batches_used_id = 10\n",
        "losses_id = []\n",
        "#Validation\n",
        "with torch.no_grad():\n",
        "  id_loss = 0\n",
        "  for i, batch in enumerate(id_test_loader):\n",
        "      if i % (n_batches_used_id/3) == 0:\n",
        "        print(f\"Progressing ... {i}/{n_batches_used_id}\")\n",
        "      pbar = tf.keras.utils.Progbar(target=n_batches_used_id)\n",
        "      if i==n_batches_used_id:\n",
        "        break\n",
        "      x, y, metadata = batch\n",
        "      outputs = net(x)\n",
        "      id_loss += criterion(outputs, y)\n",
        "print(id_loss/n_batches_used_id)\n",
        "metrics.append(id_loss/n_batches_used_id)"
      ],
      "metadata": {
        "id": "RK2G8j9PArki",
        "colab": {
          "base_uri": "https://localhost:8080/"
        },
        "outputId": "a9d5c9d5-365f-4b09-dd74-b2363f4c0a58"
      },
      "execution_count": null,
      "outputs": [
        {
          "output_type": "stream",
          "name": "stdout",
          "text": [
            "Progressing ... 0/10\n",
            "tensor(7.0445)\n"
          ]
        }
      ]
    },
    {
      "cell_type": "code",
      "source": [
        "# Later should be replaced by: dataset.eval(all_y_pred, all_y_true, all_metadata)\n",
        "# This function is provided by the authours"
      ],
      "metadata": {
        "id": "KoIC5DQwVABn"
      },
      "execution_count": null,
      "outputs": []
    },
    {
      "cell_type": "markdown",
      "source": [
        "# OOD Test"
      ],
      "metadata": {
        "id": "1KF4Xd6_Ar_p"
      }
    },
    {
      "cell_type": "code",
      "source": [
        "# To be Completed ...\n",
        "n_batches_used_ood = 10\n",
        "losses_ood = []\n",
        "#Validation\n",
        "with torch.no_grad():\n",
        "  ood_loss = 0\n",
        "  for i, batch in enumerate(test_data):\n",
        "      if i % (n_batches_used_ood/3) == 0:\n",
        "        print(f\"Progressing ... {i}/{n_batches_used_ood}\")\n",
        "      pbar = tf.keras.utils.Progbar(target=n_batches_used_ood)\n",
        "      if i==n_batches_used_ood:\n",
        "        break\n",
        "      x, y, metadata = batch\n",
        "      outputs = net(x)\n",
        "      id_loss += criterion(outputs, y)\n",
        "print(id_loss/n_batches_used_ood)\n",
        "metrics.append(id_loss/n_batches_used_ood)"
      ],
      "metadata": {
        "id": "oU19HpZKAwHw"
      },
      "execution_count": null,
      "outputs": []
    },
    {
      "cell_type": "markdown",
      "source": [
        "# Deep CORAL"
      ],
      "metadata": {
        "id": "1ChlDELZKjyX"
      }
    },
    {
      "cell_type": "code",
      "source": [
        "# Code from https://github.com/p-lambda/wilds/blob/main/examples/algorithms/deepCORAL.py\n",
        "import torch\n",
        "from models.initializer import initialize_model\n",
        "from algorithms.single_model_algorithm import SingleModelAlgorithm\n",
        "from wilds.common.utils import split_into_groups\n",
        "from utils import concat_input\n",
        "\n",
        "class DeepCORAL(SingleModelAlgorithm):\n",
        "    \"\"\"\n",
        "    Deep CORAL.\n",
        "    This algorithm was originally proposed as an unsupervised domain adaptation algorithm.\n",
        "    Original paper:\n",
        "        @inproceedings{sun2016deep,\n",
        "          title={Deep CORAL: Correlation alignment for deep domain adaptation},\n",
        "          author={Sun, Baochen and Saenko, Kate},\n",
        "          booktitle={European Conference on Computer Vision},\n",
        "          pages={443--450},\n",
        "          year={2016},\n",
        "          organization={Springer}\n",
        "        }\n",
        "    The original CORAL loss is the distance between second-order statistics (covariances)\n",
        "    of the source and target features.\n",
        "    The CORAL penalty function below is adapted from DomainBed's implementation:\n",
        "    https://github.com/facebookresearch/DomainBed/blob/1a61f7ff44b02776619803a1dd12f952528ca531/domainbed/algorithms.py#L539\n",
        "    \"\"\"\n",
        "    def __init__(self, config, d_out, grouper, loss, metric, n_train_steps):\n",
        "        # check config\n",
        "        assert config.train_loader == 'group'\n",
        "        assert config.uniform_over_groups\n",
        "        assert config.distinct_groups\n",
        "        # initialize models\n",
        "        featurizer, classifier = initialize_model(config, d_out=d_out, is_featurizer=True)\n",
        "        featurizer = featurizer.to(config.device)\n",
        "        classifier = classifier.to(config.device)\n",
        "        model = torch.nn.Sequential(featurizer, classifier)\n",
        "        # initialize module\n",
        "        super().__init__(\n",
        "            config=config,\n",
        "            model=model,\n",
        "            grouper=grouper,\n",
        "            loss=loss,\n",
        "            metric=metric,\n",
        "            n_train_steps=n_train_steps,\n",
        "        )\n",
        "        # algorithm hyperparameters\n",
        "        self.penalty_weight = config.coral_penalty_weight\n",
        "        # additional logging\n",
        "        self.logged_fields.append('penalty')\n",
        "        # set model components\n",
        "        self.featurizer = featurizer\n",
        "        self.classifier = classifier\n",
        "\n",
        "    def coral_penalty(self, x, y):\n",
        "        if x.dim() > 2:\n",
        "            # featurizers output Tensors of size (batch_size, ..., feature dimensionality).\n",
        "            # we flatten to Tensors of size (*, feature dimensionality)\n",
        "            x = x.view(-1, x.size(-1))\n",
        "            y = y.view(-1, y.size(-1))\n",
        "\n",
        "        mean_x = x.mean(0, keepdim=True)\n",
        "        mean_y = y.mean(0, keepdim=True)\n",
        "        cent_x = x - mean_x\n",
        "        cent_y = y - mean_y\n",
        "        cova_x = (cent_x.t() @ cent_x) / (len(x) - 1)\n",
        "        cova_y = (cent_y.t() @ cent_y) / (len(y) - 1)\n",
        "\n",
        "        mean_diff = (mean_x - mean_y).pow(2).mean()\n",
        "        cova_diff = (cova_x - cova_y).pow(2).mean()\n",
        "\n",
        "        return mean_diff + cova_diff\n",
        "\n",
        "    def process_batch(self, batch, unlabeled_batch=None):\n",
        "        \"\"\"\n",
        "        Overrides single_model_algorithm.process_batch().\n",
        "        Args:\n",
        "            - batch (tuple of Tensors): a batch of data yielded by data loaders\n",
        "            - unlabeled_batch (tuple of Tensors or None): a batch of data yielded by unlabeled data loader\n",
        "        Output:\n",
        "            - results (dictionary): information about the batch\n",
        "                - y_true (Tensor): ground truth labels for batch\n",
        "                - g (Tensor): groups for batch\n",
        "                - metadata (Tensor): metadata for batch\n",
        "                - unlabeled_g (Tensor): groups for unlabeled batch\n",
        "                - features (Tensor): featurizer output for batch and unlabeled batch\n",
        "                - y_pred (Tensor): full model output for batch and unlabeled batch\n",
        "        \"\"\"\n",
        "        # forward pass\n",
        "        x, y_true, metadata = batch\n",
        "        y_true = y_true.to(self.device)\n",
        "        g = self.grouper.metadata_to_group(metadata).to(self.device)\n",
        "\n",
        "        results = {\n",
        "            'g': g,\n",
        "            'y_true': y_true,\n",
        "            'metadata': metadata,\n",
        "        }\n",
        "\n",
        "        if unlabeled_batch is not None:\n",
        "            unlabeled_x, unlabeled_metadata = unlabeled_batch\n",
        "            x = concat_input(x, unlabeled_x)\n",
        "            unlabeled_g = self.grouper.metadata_to_group(unlabeled_metadata).to(self.device)\n",
        "            results['unlabeled_g'] = unlabeled_g\n",
        "\n",
        "        x = x.to(self.device)\n",
        "        features = self.featurizer(x)\n",
        "        outputs = self.classifier(features)\n",
        "        y_pred = outputs[: len(y_true)]\n",
        "\n",
        "        results['features'] = features\n",
        "        results['y_pred'] = y_pred\n",
        "        return results\n",
        "\n",
        "    def objective(self, results):\n",
        "        if self.is_training:\n",
        "            features = results.pop('features')\n",
        "\n",
        "            # Split into groups\n",
        "            groups = concat_input(results['g'], results['unlabeled_g']) if 'unlabeled_g' in results else results['g']\n",
        "            unique_groups, group_indices, _ = split_into_groups(groups)\n",
        "            n_groups_per_batch = unique_groups.numel()\n",
        "\n",
        "            # Compute penalty - perform pairwise comparisons between features of all the groups\n",
        "            penalty = torch.zeros(1, device=self.device)\n",
        "            for i_group in range(n_groups_per_batch):\n",
        "                for j_group in range(i_group+1, n_groups_per_batch):\n",
        "                    penalty += self.coral_penalty(features[group_indices[i_group]], features[group_indices[j_group]])\n",
        "            if n_groups_per_batch > 1:\n",
        "                penalty /= (n_groups_per_batch * (n_groups_per_batch-1) / 2) # get the mean penalty\n",
        "        else:\n",
        "            penalty = 0.\n",
        "\n",
        "        self.save_metric_for_logging(results, 'penalty', penalty)\n",
        "        avg_loss = self.loss.compute(results['y_pred'], results['y_true'], return_dict=False)\n",
        "        return avg_loss + penalty * self.penalty_weight"
      ],
      "metadata": {
        "id": "LU-s-KO6Kqsw"
      },
      "execution_count": null,
      "outputs": []
    },
    {
      "cell_type": "code",
      "source": [
        "import copy\n",
        "import torch\n",
        "from tqdm import tqdm\n",
        "import math\n",
        "\n",
        "from configs.supported import process_outputs_functions, process_pseudolabels_functions\n",
        "from utils import save_model, save_pred, get_pred_prefix, get_model_prefix, collate_list, detach_and_clone, InfiniteDataIterator\n",
        "\n",
        "def run_epoch(algorithm, dataset, general_logger, epoch, config, train, unlabeled_dataset=None):\n",
        "    if dataset['verbose']:\n",
        "        general_logger.write(f\"\\n{dataset['name']}:\\n\")\n",
        "\n",
        "    if train:\n",
        "        algorithm.train()\n",
        "        torch.set_grad_enabled(True)\n",
        "    else:\n",
        "        algorithm.eval()\n",
        "        torch.set_grad_enabled(False)\n",
        "\n",
        "    # Not preallocating memory is slower\n",
        "    # but makes it easier to handle different types of data loaders\n",
        "    # (which might not return exactly the same number of examples per epoch)\n",
        "    epoch_y_true = []\n",
        "    epoch_y_pred = []\n",
        "    epoch_metadata = []\n",
        "\n",
        "    # Assert that data loaders are defined for the datasets\n",
        "    assert 'loader' in dataset, \"A data loader must be defined for the dataset.\"\n",
        "    if unlabeled_dataset:\n",
        "        assert 'loader' in unlabeled_dataset, \"A data loader must be defined for the dataset.\"\n",
        "\n",
        "    batches = dataset['loader']\n",
        "    if config.progress_bar:\n",
        "        batches = tqdm(batches)\n",
        "    last_batch_idx = len(batches)-1\n",
        "    \n",
        "    if unlabeled_dataset:\n",
        "        unlabeled_data_iterator = InfiniteDataIterator(unlabeled_dataset['loader'])\n",
        "\n",
        "    # Using enumerate(iterator) can sometimes leak memory in some environments (!)\n",
        "    # so we manually increment batch_idx\n",
        "    batch_idx = 0\n",
        "    for labeled_batch in batches:\n",
        "        if train:\n",
        "            if unlabeled_dataset:\n",
        "                unlabeled_batch = next(unlabeled_data_iterator)\n",
        "                batch_results = algorithm.update(labeled_batch, unlabeled_batch, is_epoch_end=(batch_idx==last_batch_idx))\n",
        "            else:\n",
        "                batch_results = algorithm.update(labeled_batch, is_epoch_end=(batch_idx==last_batch_idx))\n",
        "        else:\n",
        "            batch_results = algorithm.evaluate(labeled_batch)\n",
        "\n",
        "        # These tensors are already detached, but we need to clone them again\n",
        "        # Otherwise they don't get garbage collected properly in some versions\n",
        "        # The extra detach is just for safety\n",
        "        # (they should already be detached in batch_results)\n",
        "        epoch_y_true.append(detach_and_clone(batch_results['y_true']))\n",
        "        y_pred = detach_and_clone(batch_results['y_pred'])\n",
        "        if config.process_outputs_function is not None:\n",
        "            y_pred = process_outputs_functions[config.process_outputs_function](y_pred)\n",
        "        epoch_y_pred.append(y_pred)\n",
        "        epoch_metadata.append(detach_and_clone(batch_results['metadata']))\n",
        "\n",
        "        if train: \n",
        "            effective_batch_idx = (batch_idx + 1) / config.gradient_accumulation_steps\n",
        "        else: \n",
        "            effective_batch_idx = batch_idx + 1\n",
        "\n",
        "        if train and effective_batch_idx % config.log_every==0:\n",
        "            log_results(algorithm, dataset, general_logger, epoch, math.ceil(effective_batch_idx))\n",
        "\n",
        "        batch_idx += 1\n",
        "\n",
        "    epoch_y_pred = collate_list(epoch_y_pred)\n",
        "    epoch_y_true = collate_list(epoch_y_true)\n",
        "    epoch_metadata = collate_list(epoch_metadata)\n",
        "\n",
        "    results, results_str = dataset['dataset'].eval(\n",
        "        epoch_y_pred,\n",
        "        epoch_y_true,\n",
        "        epoch_metadata)\n",
        "\n",
        "    if config.scheduler_metric_split==dataset['split']:\n",
        "        algorithm.step_schedulers(\n",
        "            is_epoch=True,\n",
        "            metrics=results,\n",
        "            log_access=(not train))\n",
        "\n",
        "    # log after updating the scheduler in case it needs to access the internal logs\n",
        "    log_results(algorithm, dataset, general_logger, epoch, math.ceil(effective_batch_idx))\n",
        "\n",
        "    results['epoch'] = epoch\n",
        "    dataset['eval_logger'].log(results)\n",
        "    if dataset['verbose']:\n",
        "        general_logger.write('Epoch eval:\\n')\n",
        "        general_logger.write(results_str)\n",
        "\n",
        "    return results, epoch_y_pred\n",
        "\n",
        "\n",
        "def train(algorithm, datasets, general_logger, config, epoch_offset, best_val_metric, unlabeled_dataset=None):\n",
        "    \"\"\"\n",
        "    Train loop that, each epoch:\n",
        "        - Steps an algorithm on the datasets['train'] split and the unlabeled split\n",
        "        - Evaluates the algorithm on the datasets['val'] split\n",
        "        - Saves models / preds with frequency according to the configs\n",
        "        - Evaluates on any other specified splits in the configs\n",
        "    Assumes that the datasets dict contains labeled data.\n",
        "    \"\"\"\n",
        "    for epoch in range(epoch_offset, config.n_epochs):\n",
        "        general_logger.write('\\nEpoch [%d]:\\n' % epoch)\n",
        "\n",
        "        # First run training\n",
        "        run_epoch(algorithm, datasets['train'], general_logger, epoch, config, train=True, unlabeled_dataset=unlabeled_dataset)\n",
        "\n",
        "        # Then run val\n",
        "        val_results, y_pred = run_epoch(algorithm, datasets['val'], general_logger, epoch, config, train=False)\n",
        "        curr_val_metric = val_results[config.val_metric]\n",
        "        general_logger.write(f'Validation {config.val_metric}: {curr_val_metric:.3f}\\n')\n",
        "\n",
        "        if best_val_metric is None:\n",
        "            is_best = True\n",
        "        else:\n",
        "            if config.val_metric_decreasing:\n",
        "                is_best = curr_val_metric < best_val_metric\n",
        "            else:\n",
        "                is_best = curr_val_metric > best_val_metric\n",
        "        if is_best:\n",
        "            best_val_metric = curr_val_metric\n",
        "            general_logger.write(f'Epoch {epoch} has the best validation performance so far.\\n')\n",
        "\n",
        "        save_model_if_needed(algorithm, datasets['val'], epoch, config, is_best, best_val_metric)\n",
        "        save_pred_if_needed(y_pred, datasets['val'], epoch, config, is_best)\n",
        "\n",
        "        # Then run everything else\n",
        "        if config.evaluate_all_splits:\n",
        "            additional_splits = [split for split in datasets.keys() if split not in ['train','val']]\n",
        "        else:\n",
        "            additional_splits = config.eval_splits\n",
        "        for split in additional_splits:\n",
        "            _, y_pred = run_epoch(algorithm, datasets[split], general_logger, epoch, config, train=False)\n",
        "            save_pred_if_needed(y_pred, datasets[split], epoch, config, is_best)\n",
        "\n",
        "        general_logger.write('\\n')\n",
        "\n",
        "\n",
        "def evaluate(algorithm, datasets, epoch, general_logger, config, is_best):\n",
        "    algorithm.eval()\n",
        "    torch.set_grad_enabled(False)\n",
        "    for split, dataset in datasets.items():\n",
        "        if (not config.evaluate_all_splits) and (split not in config.eval_splits):\n",
        "            continue\n",
        "        epoch_y_true = []\n",
        "        epoch_y_pred = []\n",
        "        epoch_metadata = []\n",
        "        iterator = tqdm(dataset['loader']) if config.progress_bar else dataset['loader']\n",
        "        for batch in iterator:\n",
        "            batch_results = algorithm.evaluate(batch)\n",
        "            epoch_y_true.append(detach_and_clone(batch_results['y_true']))\n",
        "            y_pred = detach_and_clone(batch_results['y_pred'])\n",
        "            if config.process_outputs_function is not None:\n",
        "                y_pred = process_outputs_functions[config.process_outputs_function](y_pred)\n",
        "            epoch_y_pred.append(y_pred)\n",
        "            epoch_metadata.append(detach_and_clone(batch_results['metadata']))\n",
        "\n",
        "        epoch_y_pred = collate_list(epoch_y_pred)\n",
        "        epoch_y_true = collate_list(epoch_y_true)\n",
        "        epoch_metadata = collate_list(epoch_metadata)\n",
        "        results, results_str = dataset['dataset'].eval(\n",
        "            epoch_y_pred,\n",
        "            epoch_y_true,\n",
        "            epoch_metadata)\n",
        "\n",
        "        results['epoch'] = epoch\n",
        "        dataset['eval_logger'].log(results)\n",
        "        general_logger.write(f'Eval split {split} at epoch {epoch}:\\n')\n",
        "        general_logger.write(results_str)\n",
        "\n",
        "        # Skip saving train preds, since the train loader generally shuffles the data\n",
        "        if split != 'train':\n",
        "            save_pred_if_needed(epoch_y_pred, dataset, epoch, config, is_best, force_save=True)\n",
        "\n",
        "def infer_predictions(model, loader, config):\n",
        "    \"\"\"\n",
        "    Simple inference loop that performs inference using a model (not algorithm) and returns model outputs.\n",
        "    Compatible with both labeled and unlabeled WILDS datasets.\n",
        "    \"\"\"\n",
        "    model.eval()\n",
        "    y_pred = []\n",
        "    iterator = tqdm(loader) if config.progress_bar else loader\n",
        "    for batch in iterator:\n",
        "        x = batch[0]\n",
        "        x = x.to(config.device)\n",
        "        with torch.no_grad(): \n",
        "            output = model(x)\n",
        "            if not config.soft_pseudolabels and config.process_pseudolabels_function is not None:\n",
        "                _, output, _, _ = process_pseudolabels_functions[config.process_pseudolabels_function](\n",
        "                    output,\n",
        "                    confidence_threshold=config.self_training_threshold if config.dataset == 'globalwheat' else 0\n",
        "                )\n",
        "            elif config.soft_pseudolabels:\n",
        "                output = torch.nn.functional.softmax(output, dim=1)\n",
        "        if isinstance(output, list):\n",
        "            y_pred.extend(detach_and_clone(output))\n",
        "        else:\n",
        "            y_pred.append(detach_and_clone(output))\n",
        "\n",
        "    return torch.cat(y_pred, 0) if torch.is_tensor(y_pred[0]) else y_pred\n",
        "\n",
        "def log_results(algorithm, dataset, general_logger, epoch, effective_batch_idx):\n",
        "    if algorithm.has_log:\n",
        "        log = algorithm.get_log()\n",
        "        log['epoch'] = epoch\n",
        "        log['batch'] = effective_batch_idx\n",
        "        dataset['algo_logger'].log(log)\n",
        "        if dataset['verbose']:\n",
        "            general_logger.write(algorithm.get_pretty_log_str())\n",
        "        algorithm.reset_log()\n",
        "\n",
        "\n",
        "def save_pred_if_needed(y_pred, dataset, epoch, config, is_best, force_save=False):\n",
        "    if config.save_pred:\n",
        "        prefix = get_pred_prefix(dataset, config)\n",
        "        if force_save or (config.save_step is not None and (epoch + 1) % config.save_step == 0):\n",
        "            save_pred(y_pred, prefix + f'epoch:{epoch}_pred')\n",
        "        if (not force_save) and config.save_last:\n",
        "            save_pred(y_pred, prefix + f'epoch:last_pred')\n",
        "        if config.save_best and is_best:\n",
        "            save_pred(y_pred, prefix + f'epoch:best_pred')\n",
        "\n",
        "\n",
        "def save_model_if_needed(algorithm, dataset, epoch, config, is_best, best_val_metric):\n",
        "    prefix = get_model_prefix(dataset, config)\n",
        "    if config.save_step is not None and (epoch + 1) % config.save_step == 0:\n",
        "        save_model(algorithm, epoch, best_val_metric, prefix + f'epoch:{epoch}_model.pth')\n",
        "    if config.save_last:\n",
        "        save_model(algorithm, epoch, best_val_metric, prefix + 'epoch:last_model.pth')\n",
        "    if config.save_best and is_best:\n",
        "        save_model(algorithm, epoch, best_val_metric, prefix + 'epoch:best_model.pth')\n"
      ],
      "metadata": {
        "id": "d28WZM8LKyHn"
      },
      "execution_count": null,
      "outputs": []
    },
    {
      "cell_type": "code",
      "source": [],
      "metadata": {
        "id": "B9qr6E7yCXeE"
      },
      "execution_count": null,
      "outputs": []
    }
  ]
}